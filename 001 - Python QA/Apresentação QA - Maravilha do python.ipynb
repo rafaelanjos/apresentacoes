{
 "cells": [
  {
   "cell_type": "markdown",
   "metadata": {},
   "source": [
    "# Python uma ferramenta eficaz para resolução de problemas\n",
    "\n",
    "Com python você pode:\n",
    "- Fazer pequenos scripts ou sistemas empresáriais completos\n",
    "- Automações, de navegação em sites, aplicações desktop, residenciais ou empresariais com IoT\n",
    "- Desenvolver aplicações web, desktop, mobile e embarcadas\n",
    "\n",
    "Para instalar e rodar na sua maquina use o seguinte tutorial: \n",
    "\n",
    "[Python - Instalando o Python e o Jupyter Notebook](https://www.youtube.com/watch?v=HbsnAGFS1qk)\n",
    "\n",
    "Quer aprender mais sem burocracias, use o Google Colaboratory direto do seu navegador, é grátis, você só precisa de uma conta gmail e acesso a internet.\n",
    "\n",
    "Acesse o Colab [aqui](https://colab.research.google.com)\n",
    "\n",
    "Notebook colab [introdução](https://colab.research.google.com/notebooks/intro.ipynb#scrollTo=GJBs_flRovLc)"
   ]
  },
  {
   "cell_type": "markdown",
   "metadata": {},
   "source": [
    "# Execute a linha abaixo com o atalho: shit + enter"
   ]
  },
  {
   "cell_type": "code",
   "execution_count": 1,
   "metadata": {},
   "outputs": [
    {
     "name": "stdout",
     "output_type": "stream",
     "text": [
      "Hello World\n"
     ]
    }
   ],
   "source": [
    "print(\"Hello World\")"
   ]
  },
  {
   "cell_type": "markdown",
   "metadata": {},
   "source": [
    "### Tipos de dados\n",
    "----\n",
    "Python é uma linguagem dinâmica de tipagem forte\n"
   ]
  },
  {
   "cell_type": "code",
   "execution_count": 2,
   "metadata": {
    "scrolled": true
   },
   "outputs": [
    {
     "name": "stdout",
     "output_type": "stream",
     "text": [
      "42 <class 'int'>\n",
      "42.5 <class 'float'>\n",
      "Texto <class 'str'>\n",
      "L <class 'str'>\n",
      "True <class 'bool'>\n",
      "False <class 'bool'>\n"
     ]
    }
   ],
   "source": [
    "print(42, type(42))\n",
    "print(42.5, type(42.5))\n",
    "print(\"Texto\", type(\"Texto\"))\n",
    "print('L', type('L'))\n",
    "print(True, type(True))\n",
    "print(False, type(False))"
   ]
  },
  {
   "cell_type": "markdown",
   "metadata": {},
   "source": [
    "### Operadores e expressões\n",
    "------\n",
    "| Operação| Operador| Exemplo | Resultado\n",
    "|:-|---|-:|--|\n",
    "| Soma      | `+` | `40 + 2` | `42` |\n",
    "| Subtração | `-` | `64 - 22` | `42` |\n",
    "| Multiplicação | `*` | `7 * 6` | `42` |\n",
    "| Divisão | `/` | `15 / 2`| `7.5` | \n",
    "| Exponenciação | `**` | `9**3` | `729` |\n",
    "| Módulo | `%` | `10 % 3` | `1` |\n",
    "\n",
    "Você tambem pode construir calculos matemáticos mais elaborados, como por exemplo:(3+(3*5))/(2*(2+3))\n",
    "\n",
    "Lembre-se que a precedencia dos operadores segue a mesma convenção da matemática \n",
    "\n",
    "Execute o código abaixo:"
   ]
  },
  {
   "cell_type": "code",
   "execution_count": 3,
   "metadata": {},
   "outputs": [
    {
     "data": {
      "text/plain": [
       "1.8"
      ]
     },
     "execution_count": 3,
     "metadata": {},
     "output_type": "execute_result"
    }
   ],
   "source": [
    "(3+(3*5))/(2*(2+3))"
   ]
  },
  {
   "cell_type": "markdown",
   "metadata": {},
   "source": [
    "### Variaveis\n",
    "Frequentemente precisamos armazenar valores, variaveis vão nos ajudar"
   ]
  },
  {
   "cell_type": "code",
   "execution_count": 4,
   "metadata": {},
   "outputs": [
    {
     "name": "stdout",
     "output_type": "stream",
     "text": [
      "Qual seu nome? Rafael\n",
      "Qual sua idade? 22\n"
     ]
    }
   ],
   "source": [
    "nome = input(\"Qual seu nome? \")\n",
    "idade = int(input(\"Qual sua idade? \"))\n",
    "universo = \"42\""
   ]
  },
  {
   "cell_type": "code",
   "execution_count": 7,
   "metadata": {},
   "outputs": [
    {
     "name": "stdout",
     "output_type": "stream",
     "text": [
      "Seja bem vindo Rafael voce tem 22 anos!\n"
     ]
    }
   ],
   "source": [
    "#print(\"Seja bem vindo \" + nome + \" voce tem \" + str(idade) + \" anos!\")\n",
    "print(f\"Seja bem vindo {nome} voce tem {str(idade)} anos!\")"
   ]
  },
  {
   "cell_type": "markdown",
   "metadata": {},
   "source": [
    "### Conversões\n",
    "Algumas conversões de tipos mais usadas\n",
    "###### Numero para texto"
   ]
  },
  {
   "cell_type": "code",
   "execution_count": 8,
   "metadata": {},
   "outputs": [
    {
     "name": "stdout",
     "output_type": "stream",
     "text": [
      "10 <class 'str'>\n"
     ]
    }
   ],
   "source": [
    "idade = 10\n",
    "texto = str(idade)\n",
    "print(texto, type(texto))"
   ]
  },
  {
   "cell_type": "markdown",
   "metadata": {},
   "source": [
    "###### Texto para numero inteiro"
   ]
  },
  {
   "cell_type": "code",
   "execution_count": 9,
   "metadata": {},
   "outputs": [
    {
     "name": "stdout",
     "output_type": "stream",
     "text": [
      "10 <class 'int'>\n"
     ]
    }
   ],
   "source": [
    "texto = \"33\"\n",
    "idade = int(idade)\n",
    "print(idade, type(idade))"
   ]
  },
  {
   "cell_type": "markdown",
   "metadata": {},
   "source": [
    "# Dicas\n",
    "\n",
    "###### Visualize todas as funções de uma classe usando a função dir()"
   ]
  },
  {
   "cell_type": "code",
   "execution_count": null,
   "metadata": {},
   "outputs": [],
   "source": [
    "dir(str)"
   ]
  },
  {
   "cell_type": "markdown",
   "metadata": {},
   "source": [
    "###### Acesse a ajuda do python com o help()"
   ]
  },
  {
   "cell_type": "code",
   "execution_count": null,
   "metadata": {},
   "outputs": [],
   "source": [
    "help(str().strip())"
   ]
  },
  {
   "cell_type": "markdown",
   "metadata": {},
   "source": [
    "# Sheet Cheat\n",
    "----------\n",
    "###### É um termo comumente utilizado para resumões\n",
    "\n",
    "Pesquise no google \n",
    "- python cheat sheet\n",
    "- windows atalhos cheat sheet"
   ]
  },
  {
   "cell_type": "markdown",
   "metadata": {},
   "source": [
    "#### Códigos iniciados com ! executam comandos para maquina\n",
    "###### instalando a lib do Selenium"
   ]
  },
  {
   "cell_type": "code",
   "execution_count": null,
   "metadata": {},
   "outputs": [],
   "source": [
    "!pip install selenium"
   ]
  },
  {
   "cell_type": "markdown",
   "metadata": {},
   "source": [
    "## Exemplo de composição de strings"
   ]
  },
  {
   "cell_type": "code",
   "execution_count": 17,
   "metadata": {},
   "outputs": [],
   "source": [
    "def pesquisa_hotel(destino, qtd_criancas, inicio, fim):\n",
    "    url = f'www.hoteisfake.com.br?destino={destino}'\n",
    "    if qtd_criancas:\n",
    "        url += f'&criancas={qtd_criancas}'\n",
    "    if inicio:\n",
    "        url += f'&dt_checkin={inicio}'\n",
    "    if fim:\n",
    "        url += f'&dt_checkout={fim}'\n",
    "    \n",
    "    print(url)\n",
    "    #get(url.enconde(strip)) ...."
   ]
  },
  {
   "cell_type": "code",
   "execution_count": 18,
   "metadata": {},
   "outputs": [
    {
     "name": "stdout",
     "output_type": "stream",
     "text": [
      "www.hoteisfake.com.br?destino=Rio de janeiro&criancas=2&dt_checkin=13/12/2020&dt_checkout=20/12/2020\n"
     ]
    }
   ],
   "source": [
    "pesquisa_hotel('Rio de janeiro',2,'13/12/2020','20/12/2020')"
   ]
  },
  {
   "cell_type": "code",
   "execution_count": 19,
   "metadata": {},
   "outputs": [
    {
     "name": "stdout",
     "output_type": "stream",
     "text": [
      "www.hoteisfake.com.br?destino=Rio de janeiro&criancas=2&dt_checkin=13/12/2020\n"
     ]
    }
   ],
   "source": [
    "pesquisa_hotel('Rio de janeiro',2,'13/12/2020',None)"
   ]
  },
  {
   "cell_type": "code",
   "execution_count": 20,
   "metadata": {},
   "outputs": [
    {
     "name": "stdout",
     "output_type": "stream",
     "text": [
      "www.hoteisfake.com.br?destino=Rio de janeiro&dt_checkin=13/12/2020&dt_checkout=20/12/2020\n"
     ]
    }
   ],
   "source": [
    "pesquisa_hotel('Rio de janeiro',None,'13/12/2020','20/12/2020')"
   ]
  },
  {
   "cell_type": "markdown",
   "metadata": {},
   "source": [
    "# E agora?\n",
    "##### Segue material em video para alimentar mentes curiosas\n",
    "\n",
    "- [Curso python para zumbis - iniciante](https://www.youtube.com/watch?v=YO58tXerKDc&list=PLUukMN0DTKCtbzhbYe2jdF4cr8MOWClXc)\n",
    "- [Analise de dados publicos](https://www.youtube.com/watch?v=NIYsAtTpJ5M&list=PLUukMN0DTKCu6g2Lq1KXLnIX6Ilk4DAPI)\n",
    "- [Dica de como escrever um bom código](https://www.youtube.com/watch?v=1IHNc-_u7OI)\n",
    "- [Live de Python - Eduardo Mendes](https://www.youtube.com/channel/UCAaKeg-BocRqphErdtIUFFw)\n",
    "\n",
    "# Projetos curiosos para ver no youtube, use os termos abaixo:\n",
    "- awesome project arduino\n",
    "- awesome project raspberry pi"
   ]
  }
 ],
 "metadata": {
  "kernelspec": {
   "display_name": "Python 3",
   "language": "python",
   "name": "python3"
  },
  "language_info": {
   "codemirror_mode": {
    "name": "ipython",
    "version": 3
   },
   "file_extension": ".py",
   "mimetype": "text/x-python",
   "name": "python",
   "nbconvert_exporter": "python",
   "pygments_lexer": "ipython3",
   "version": "3.7.3"
  }
 },
 "nbformat": 4,
 "nbformat_minor": 2
}
